{
 "cells": [
  {
   "cell_type": "markdown",
   "metadata": {},
   "source": [
    "\n",
    "<h1 id=\"The-Solution-of-Nonlinear-Equations\">The Solution of Nonlinear Equations<a class=\"anchor-link\" href=\"#The-Solution-of-Nonlinear-Equations\">¶</a></h1><p><a href=\"https://creativecommons.org/licenses/by/4.0/\" rel=\"license\"><img alt=\"Creative Commons License\" src=\"https://i.creativecommons.org/l/by/4.0/80x15.png\" style=\"border-width:0\"/></a><br/>This notebook by Xiaozhou Li is licensed under a <a href=\"https://creativecommons.org/licenses/by/4.0/\" rel=\"license\">Creative Commons Attribution 4.0 International License</a>.<br/>\n",
    "All code examples are also licensed under the <a href=\"https://opensource.org/licenses/MIT\">MIT license</a>.</p>\n"
   ]
  },
  {
   "cell_type": "markdown",
   "metadata": {},
   "source": [
    "\n",
    "<p>One of the most frequently occurring problems in scientific work is to find the roots of equations of the form\n",
    "\\begin{equation}\n",
    "    f(x) = 0,\n",
    "\\end{equation}\n",
    "i.e., zeros of the function $f(x)$.</p>\n"
   ]
  },
  {
   "cell_type": "markdown",
   "metadata": {},
   "source": [
    "\n",
    "<h2 id=\"The-Existence-of-Root\">The Existence of Root<a class=\"anchor-link\" href=\"#The-Existence-of-Root\">¶</a></h2><p>The first step to solving an equation is to verify that a root exists.</p>\n",
    "<h3 id=\"Theorem\">Theorem<a class=\"anchor-link\" href=\"#Theorem\">¶</a></h3><p>Let $f$ be a continuous function on $[a, b]$, satisfying $f(a)f(b) &lt; 0$. Then $f$ has a root between $a$ and $b$, that is, there exists a number $x^{*}$ satisfying $a &lt; x^{*} &lt; b$ and $f(x^{*}) = 0$.</p>\n",
    "<p><strong>Notes:</strong></p>\n",
    "<ul>\n",
    "<li>This theorem is just the simplest one for the existence of roots. </li>\n",
    "</ul>\n"
   ]
  },
  {
   "cell_type": "markdown",
   "metadata": {},
   "source": [
    "\n",
    "<h2 id=\"The-Bisection-Method\">The Bisection Method<a class=\"anchor-link\" href=\"#The-Bisection-Method\">¶</a></h2><p>Let us see one of the simplest root finding methods: the bisecion method.</p>\n",
    "<h3 id=\"Bisection-Method\">Bisection Method<a class=\"anchor-link\" href=\"#Bisection-Method\">¶</a></h3><p><strong>Algorithm:</strong></p>\n",
    "<div class=\"highlight\"><pre><span></span><span class=\"n\">Given</span> <span class=\"n\">initial</span> <span class=\"n\">interval</span> <span class=\"p\">[</span><span class=\"n\">a</span><span class=\"p\">,</span> <span class=\"n\">b</span><span class=\"p\">]</span> <span class=\"n\">such</span> <span class=\"n\">that</span> <span class=\"n\">f</span> <span class=\"p\">(</span><span class=\"n\">a</span><span class=\"p\">)</span><span class=\"n\">f</span> <span class=\"p\">(</span><span class=\"n\">b</span><span class=\"p\">)</span> <span class=\"o\">&lt;</span> <span class=\"mi\">0</span> \n",
    "    <span class=\"k\">while</span> <span class=\"p\">(</span><span class=\"n\">b</span> <span class=\"err\">−</span> <span class=\"n\">a</span><span class=\"p\">)</span><span class=\"o\">/</span><span class=\"mi\">2</span> <span class=\"o\">&gt;</span> <span class=\"n\">TOL</span><span class=\"p\">:</span>\n",
    "        <span class=\"n\">c</span> <span class=\"o\">=</span> <span class=\"p\">(</span><span class=\"n\">a</span> <span class=\"o\">+</span> <span class=\"n\">b</span><span class=\"p\">)</span><span class=\"o\">/</span><span class=\"mi\">2</span>\n",
    "    <span class=\"k\">if</span> <span class=\"n\">f</span> <span class=\"p\">(</span><span class=\"n\">c</span><span class=\"p\">)</span> <span class=\"o\">=</span> <span class=\"mi\">0</span><span class=\"p\">:</span>\n",
    "        <span class=\"n\">stop</span> \n",
    "    <span class=\"k\">if</span> <span class=\"n\">f</span><span class=\"p\">(</span><span class=\"n\">a</span><span class=\"p\">)</span><span class=\"n\">f</span><span class=\"p\">(</span><span class=\"n\">c</span><span class=\"p\">)</span> <span class=\"o\">&lt;</span> <span class=\"mi\">0</span><span class=\"p\">:</span>\n",
    "        <span class=\"n\">b</span><span class=\"o\">=</span><span class=\"n\">c</span> \n",
    "    <span class=\"k\">else</span><span class=\"p\">:</span>\n",
    "        <span class=\"n\">a</span><span class=\"o\">=</span><span class=\"n\">c</span>\n",
    "    <span class=\"n\">The</span> <span class=\"n\">final</span> <span class=\"n\">interval</span> <span class=\"p\">[</span><span class=\"n\">a</span><span class=\"p\">,</span><span class=\"n\">b</span><span class=\"p\">]</span> <span class=\"n\">contains</span> <span class=\"n\">a</span> <span class=\"n\">root</span><span class=\"o\">.</span> \n",
    "    <span class=\"n\">The</span> <span class=\"n\">approximate</span> <span class=\"n\">root</span> <span class=\"ow\">is</span> <span class=\"p\">(</span><span class=\"n\">a</span> <span class=\"o\">+</span> <span class=\"n\">b</span><span class=\"p\">)</span><span class=\"o\">/</span><span class=\"mf\">2.</span>\n",
    "</pre></div>\n",
    "<p><strong>Python implementation:</strong></p>\n"
   ]
  },
  {
   "cell_type": "code",
   "execution_count": null,
   "metadata": {},
   "outputs": [],
   "source": [
    "\n",
    "# environment setting, before any codes\n",
    "import numpy as np\n",
    "%matplotlib inline\n",
    "%config InlineBackend.figure_format = 'retina'\n",
    "import matplotlib.pyplot as plt\n",
    "from ipywidgets import interact, interactive, fixed, interact_manual\n",
    "import ipywidgets as widgets\n",
    "from IPython.display import clear_output, display\n",
    "\n"
   ]
  },
  {
   "cell_type": "markdown",
   "metadata": {},
   "source": [
    "\n",
    "<h3 id=\"The-Python-Code\">The Python Code<a class=\"anchor-link\" href=\"#The-Python-Code\">¶</a></h3><p>Here, we give the code of bisection method as follows:</p>\n",
    "<div class=\"highlight\"><pre><span></span><span class=\"k\">def</span> <span class=\"nf\">bisect</span><span class=\"p\">(</span><span class=\"n\">f</span><span class=\"p\">,</span> <span class=\"n\">a</span><span class=\"p\">,</span> <span class=\"n\">b</span><span class=\"p\">,</span> <span class=\"n\">tol</span><span class=\"p\">):</span>\n",
    "</pre></div>\n",
    "<ul>\n",
    "<li>$f$ is the function $f(x)$ </li>\n",
    "<li>$a$ and $b$ are for the interval $[a, b]$</li>\n",
    "<li>$tol$ is the tolerence error for the numerical solution. </li>\n",
    "</ul>\n"
   ]
  },
  {
   "cell_type": "code",
   "execution_count": null,
   "metadata": {},
   "outputs": [],
   "source": [
    "\n",
    "def bisect(f, a, b, tol):\n",
    "    if (np.sign(f(a)*f(b)) >= 0):      # wrong input\n",
    "        print ('$f(a)f(b) <0$ not satisfied')\n",
    "        return\n",
    "    fa = f(a) \n",
    "    fb = f(b)\n",
    "    while ((b - a)/2) > tol:\n",
    "        c = (a + b)/2;\n",
    "        fc = f(c)\n",
    "        if fc == 0:                 # c is a solution, done\n",
    "            return c \n",
    "        if (np.sign(fc*fa) < 0):       # new interval [a, c]\n",
    "            b = c; \n",
    "            fb = fc\n",
    "        else:                       # new interval [c, b]\n",
    "            a = c\n",
    "            fa = fc\n",
    "    return (a + b)/2                #new midpoint is best estimate\n",
    "\n"
   ]
  },
  {
   "cell_type": "markdown",
   "metadata": {},
   "source": [
    "\n",
    "<h3 id=\"Demostration\">Demostration<a class=\"anchor-link\" href=\"#Demostration\">¶</a></h3><p><strong>Demonstration version:</strong></p>\n"
   ]
  },
  {
   "cell_type": "code",
   "execution_count": null,
   "metadata": {},
   "outputs": [],
   "source": [
    "\n",
    "def bisect_iters(f, a, b, iters):\n",
    "    fa = f(a) \n",
    "    fb = f(b)\n",
    "    \n",
    "    x = np.zeros(iters+1)\n",
    "    for i in range(iters):\n",
    "        c = (a + b)/2\n",
    "        x[i] = c\n",
    "        fc = f(c)\n",
    "        if fc == 0:                 # c is a solution, done\n",
    "            return c \n",
    "        if (np.sign(fc*fa) < 0):       # new interval [a, c]\n",
    "            b = c; \n",
    "            fb = fc\n",
    "        else:                       # new interval [c, b]\n",
    "            a = c\n",
    "            fa = fc\n",
    "    x[iters] = (a + b)/2       \n",
    "    return x              #new midpoint is best estimate\n",
    "\n"
   ]
  },
  {
   "cell_type": "markdown",
   "metadata": {},
   "source": [
    "\n",
    "<p><strong>Exmaple</strong>\n",
    "    Use Bisection Method to find the root of $f(x) = e^{-x} - \\sin\\left(\\frac{\\pi x}{2}\\right)$ on $[0,1]$.</p>\n"
   ]
  },
  {
   "cell_type": "code",
   "execution_count": null,
   "metadata": {},
   "outputs": [],
   "source": [
    "\n",
    "def fun(x):\n",
    "    return np.exp(-x) - np.sin(np.pi/2*x)\n",
    "\n"
   ]
  },
  {
   "cell_type": "code",
   "execution_count": null,
   "metadata": {},
   "outputs": [],
   "source": [
    "\n",
    "def Iteration_demo(f, a, b, iters):\n",
    "    x = np.linspace(a, b, 1000)\n",
    "    plt.plot(x, f(x), 'k', linewidth=3)\n",
    "    plt.plot(x, 0*x, 'k-.', linewidth=3)\n",
    "    x = bisect_iters(f, a, b, iters)\n",
    "    x_ref = bisect(f, a, b, 1.e-14)\n",
    "    \n",
    "    #print (x)\n",
    "    plt.xlim(a,b)\n",
    "    plt.ylim(min(f(a),f(b)),max(f(a),f(b)))\n",
    "    #plt.ylim(1,2)\n",
    "    for i in range(iters+1):\n",
    "        plt.plot(x, f(x), 'r*', markersize=12, linewidth=3)\n",
    "    \n",
    "    print ('Reference Solution: ', x_ref)\n",
    "    print ('no.    solution    error bound    error')\n",
    "    for i in range(iters+1):\n",
    "        print (\"%3d  %12.10f   %7.2e    %7.2e\" % \\\n",
    "                   (i, x[i], (b-a)/2**(i+1), np.abs(x_ref - x[i])))\n",
    "    \n",
    "        \n",
    "a = 0\n",
    "b = 1\n",
    "Iteration_demo(fun, a, b, 10)\n",
    "\n"
   ]
  },
  {
   "cell_type": "code",
   "execution_count": null,
   "metadata": {},
   "outputs": [],
   "source": [
    "\n",
    "w = interactive(Iteration_demo, f=fixed(fun), a=fixed(0), b=fixed(1), iters=widgets.IntSlider(min=0,max=50,value=0))\n",
    "display(w)\n",
    "\n"
   ]
  },
  {
   "cell_type": "markdown",
   "metadata": {},
   "source": [
    "\n",
    "<p><strong>Exmaple</strong>\n",
    "    Use Bisection Method to find the root of $f(x) = x^3 + x - 1$ on $[0,1]$.</p>\n"
   ]
  },
  {
   "cell_type": "code",
   "execution_count": null,
   "metadata": {},
   "outputs": [],
   "source": [
    "\n",
    "def fun2(x):\n",
    "    return x**3 + x - 1\n",
    "\n",
    "w = interactive(Iteration_demo, f=fixed(fun2), a=fixed(0), b=fixed(1), iters=widgets.IntSlider(min=0,max=20,value=0))\n",
    "display(w)\n",
    "\n"
   ]
  },
  {
   "cell_type": "markdown",
   "metadata": {},
   "source": [
    "\n",
    "<p><strong>Exmaple</strong>\n",
    "    Use Bisection Method to find the root of <strong>linear equation</strong> $f(x) = x - 1/3$ on $[0,1]$.  What do you think of the performance?</p>\n"
   ]
  },
  {
   "cell_type": "code",
   "execution_count": null,
   "metadata": {},
   "outputs": [],
   "source": [
    "\n",
    "def fun3(x):\n",
    "    return x - 0.50000000001\n",
    "\n",
    "w = interactive(Iteration_demo, f=fixed(fun3), a=fixed(0), b=fixed(1), iters=widgets.IntSlider(min=0,max=20,value=0))\n",
    "display(w)\n",
    "\n"
   ]
  },
  {
   "cell_type": "markdown",
   "metadata": {},
   "source": [
    "\n",
    "<h2 id=\"Fixed-Point-Iteration-(FPI)\">Fixed-Point Iteration (FPI)<a class=\"anchor-link\" href=\"#Fixed-Point-Iteration-(FPI)\">¶</a></h2><h3 id=\"FPI-Algorithm\">FPI Algorithm<a class=\"anchor-link\" href=\"#FPI-Algorithm\">¶</a></h3><p>First, one can rewrite the equation $f(x) = 0$ as a fixed point problem $g(x) = x$, Fixed-Point Iteration proceeds by starting with an initial guess $x_0$ and iterating the function $g$.\n",
    "\\begin{align}\n",
    "    x_0 &amp; = \\text{initial guess} \\\\\n",
    "    x_{n+1} &amp; = g(x_n) \\,\\,\\text{for}\\,\\,n = 0, 1,\\ldots,\n",
    "\\end{align}</p>\n",
    "<h3 id=\"The-Python-Code\">The Python Code<a class=\"anchor-link\" href=\"#The-Python-Code\">¶</a></h3><p>The code of FPI is very easy, in each iteration, just do a function evaluation.</p>\n"
   ]
  },
  {
   "cell_type": "code",
   "execution_count": null,
   "metadata": {},
   "outputs": [],
   "source": [
    "\n",
    "def fixed_iters(g, x0, iters):\n",
    "    x = np.zeros(iters+1)\n",
    "    x[0] = x0\n",
    "    for i in range(iters):\n",
    "        x[i+1] = g(x[i])\n",
    "    return x\n",
    "\n",
    "def g(x):\n",
    "    return np.cos(x)\n",
    "\n",
    "fixed_iters(g, 1., 20)\n",
    "\n"
   ]
  },
  {
   "cell_type": "markdown",
   "metadata": {},
   "source": [
    "\n",
    "<h3 id=\"Demostration\">Demostration<a class=\"anchor-link\" href=\"#Demostration\">¶</a></h3><p><strong>Demonstration version:</strong></p>\n"
   ]
  },
  {
   "cell_type": "code",
   "execution_count": null,
   "metadata": {},
   "outputs": [],
   "source": [
    "\n",
    "def Iteration_demo2(f, a, b, g, x0, iters):\n",
    "    x = np.linspace(a, b, 1000)\n",
    "    plt.plot(x, f(x), 'k', linewidth=3)\n",
    "    plt.plot(x, 0*x, 'k-.', linewidth=3)\n",
    "    x = fixed_iters(g, x0, iters)\n",
    "    x_ref = bisect(f, a+1.e-8, b, 1.e-14)\n",
    "    \n",
    "    #print (x)\n",
    "    plt.xlim(a,b)\n",
    "    plt.ylim(min(f(a),f(b)),max(f(a),f(b)))\n",
    "    for i in range(iters+1):\n",
    "        plt.plot(x, f(x), 'r*', markersize=12, linewidth=3)\n",
    "    \n",
    "    print ('Reference Solution: ', x_ref)\n",
    "    print ('no.    solution    |x_{n+1} - x_{n}|    error')\n",
    "    for i in range(iters+1):\n",
    "        if (i < iters):\n",
    "            print (\"%3d  %14.12f      %7.2e       %7.2e\" % \\\n",
    "                   (i, x[i], np.abs(x[i+1]-x[i]), np.abs(x_ref - x[i])))\n",
    "        else:\n",
    "            print (\"%3d  %14.12f      %7.2e       %7.2e\" % \\\n",
    "                   (i, x[i], np.abs(g(x[i])-x[i]), np.abs(x_ref - x[i])))\n",
    "\n"
   ]
  },
  {
   "cell_type": "markdown",
   "metadata": {},
   "source": [
    "\n",
    "<p><strong>Example</strong> Use Fixed Point Iteration to find a root of $f(x) = x^3 + 4x^2 - 10$ on $[1, 2]$ with $g_1(x) = \\sqrt{\\frac{10}{x} - 4x}$ and $g_2(x) = \\sqrt{\\frac{10}{x+4}}$, the initial guess $x_0 = 1.5$.</p>\n"
   ]
  },
  {
   "cell_type": "code",
   "execution_count": null,
   "metadata": {},
   "outputs": [],
   "source": [
    "\n",
    "def f(x):\n",
    "    return x**3 + 4*x**2 - 10\n",
    "\n",
    "a = 1; b = 2;\n",
    "\n",
    "def g1(x):\n",
    "    return np.sqrt(10/x - 4*x)\n",
    "\n",
    "def g2(x):\n",
    "    return np.sqrt(10/(x+4))\n",
    "\n",
    "x0 = 1.5\n",
    "\n",
    "w = interactive(Iteration_demo2, f=fixed(f), a=fixed(a), b=fixed(b), g=fixed(g2), x0 = fixed(x0), iters=widgets.IntSlider(min=0,max=20,value=0))\n",
    "display(w)\n",
    "\n"
   ]
  },
  {
   "cell_type": "markdown",
   "metadata": {},
   "source": [
    "\n",
    "<p><strong>Better than bisection?</strong></p>\n",
    "<ul>\n",
    "<li>Solving the above example by using bisection method.</li>\n",
    "</ul>\n"
   ]
  },
  {
   "cell_type": "code",
   "execution_count": null,
   "metadata": {},
   "outputs": [],
   "source": [
    "\n",
    "w = interactive(Iteration_demo, f=fixed(f), a=fixed(1), b=fixed(2), iters=widgets.IntSlider(min=0,max=50,value=0))\n",
    "display(w)\n",
    "\n"
   ]
  },
  {
   "cell_type": "markdown",
   "metadata": {},
   "source": [
    "\n",
    "<p><strong>Example</strong> Find the fixed points of $g(x) = 2.8x - x^2$</p>\n"
   ]
  },
  {
   "cell_type": "code",
   "execution_count": null,
   "metadata": {},
   "outputs": [],
   "source": [
    "\n",
    "def f(x):\n",
    "    return 1.8*x - x**2\n",
    "\n",
    "a = 0; b = 2;\n",
    "\n",
    "def g(x):\n",
    "    return 2.8*x - x**2\n",
    "\n",
    "x0 = -1\n",
    "\n",
    "w = interactive(Iteration_demo2, f=fixed(f), a=fixed(a), b=fixed(b), g=fixed(g), x0 = fixed(x0), iters=widgets.IntSlider(min=0,max=40,value=0))\n",
    "display(w)\n",
    "\n"
   ]
  },
  {
   "cell_type": "markdown",
   "metadata": {},
   "source": [
    "\n",
    "<p><strong>Example</strong> Use Fixed Point Iteration to find the positive root of $f(x) = x^2 - 3$ with $g_1(x) = x - \\frac{1}{4}(x^2-3)$ and $g_2(x) = \\frac{1}{2}\\left(x + \\frac{3}{x}\\right)$.</p>\n"
   ]
  },
  {
   "cell_type": "code",
   "execution_count": null,
   "metadata": {},
   "outputs": [],
   "source": [
    "\n",
    "def f(x):\n",
    "    return x**2 - 3\n",
    "\n",
    "a = 0; b = 2\n",
    "\n",
    "def g1(x):\n",
    "    return x - 0.25*(x**2-3)\n",
    "\n",
    "def g2(x):\n",
    "    return 0.5*(x + 3/x)\n",
    "\n",
    "x0 = 2\n",
    "\n",
    "w = interactive(Iteration_demo2, f=fixed(f), a=fixed(a), b=fixed(b), g=fixed(g1), x0 = fixed(x0), iters=widgets.IntSlider(min=0,max=40,value=0))\n",
    "display(w)\n",
    "\n"
   ]
  },
  {
   "cell_type": "markdown",
   "metadata": {},
   "source": [
    "\n",
    "<h2 id=\"Newton's-Method\">Newton's Method<a class=\"anchor-link\" href=\"#Newton's-Method\">¶</a></h2><h3 id=\"Newton's-Method\">Newton's Method<a class=\"anchor-link\" href=\"#Newton's-Method\">¶</a></h3><p>Newton's method is a particular kind o af fixed point iteration, with $g(x) = x - \\frac{f(x)}{f'(x)}$.\n",
    "\\begin{align}\n",
    "    x_0 &amp; = \\text{initial guess} \\\\\n",
    "    x_{n+1} &amp; = x_n - \\frac{f(x_n)}{f'(x_{n})} \\,\\,\\text{for}\\,\\,n = 0, 1,\\ldots,\n",
    "\\end{align}</p>\n",
    "<h3 id=\"The-Python-Code\">The Python Code<a class=\"anchor-link\" href=\"#The-Python-Code\">¶</a></h3><p>Similar as the code of FPI, in each iteration, the Newton's method just need do a function evaluation and compute its derivative.</p>\n"
   ]
  },
  {
   "cell_type": "code",
   "execution_count": null,
   "metadata": {},
   "outputs": [],
   "source": [
    "\n",
    "def Newton_iters(f, f_der, x0, iters):\n",
    "    x = np.zeros(iters+1)\n",
    "    x[0] = x0\n",
    "    for i in range(iters):\n",
    "        x[i+1] = x[i] - f(x[i])/f_der(x[i])\n",
    "    return x\n",
    "\n",
    "def f(x):\n",
    "    return x**2 - 3\n",
    "\n",
    "def f_der(x):\n",
    "    return 2*x\n",
    "\n",
    "Newton_iters(f, f_der, 1., 20)\n",
    "\n"
   ]
  },
  {
   "cell_type": "markdown",
   "metadata": {},
   "source": [
    "\n",
    "<p><strong>Example</strong> Find the positive root of $f(x) = x^2 - a$ by Newton's Methods</p>\n",
    "<p>The iterations is \n",
    "\\begin{equation}\n",
    "    x_{n+1} = \\left(x_n + \\frac{a}{x_n}\\right)/2 \n",
    "\\end{equation}</p>\n"
   ]
  },
  {
   "cell_type": "code",
   "execution_count": null,
   "metadata": {},
   "outputs": [],
   "source": [
    "\n",
    "def Iteration_demo3(f, f_der, a, b, x0, x_star, iters):\n",
    "    x = np.linspace(a, b, 1000)\n",
    "    plt.plot(x, f(x), 'k', linewidth=3)\n",
    "    plt.plot(x, 0*x, 'k-.', linewidth=3)\n",
    "    x = Newton_iters(f, f_der, x0, iters)\n",
    "    #x_ref = bisect(f, a+1.e-8, b, 1.e-14)\n",
    "    \n",
    "    #print (x)\n",
    "    plt.xlim(a,b)\n",
    "    #plt.ylim(min(f(a),f(b)),max(f(a),f(b)))\n",
    "    for i in range(iters+1):\n",
    "        plt.plot(x, f(x), 'r*', markersize=12, linewidth=3)\n",
    "    \n",
    "    print ('Reference Solution: ', x_star)\n",
    "    print ('no.    solution    |x_{n} - x_{*}|    e_{n}/e_{n-1}^2   e_{n}/e_{n-1}')\n",
    "    for i in range(iters+1):\n",
    "        if (i < 1):\n",
    "            print (\"%3d  %14.12f      %7.2e\" % \\\n",
    "                   (i, x[i], np.abs(x_star - x[i])))\n",
    "        else:\n",
    "            print (\"%3d  %14.12f      %7.2e           %6.4f          %6.4f\" % \\\n",
    "                   (i, x[i], np.abs(x_star - x[i]), np.abs(x_star - x[i])/(x_star - x[i-1])**2, \\\n",
    "                   np.abs(x_star - x[i])/np.abs(x_star - x[i-1])))\n",
    "\n"
   ]
  },
  {
   "cell_type": "code",
   "execution_count": null,
   "metadata": {},
   "outputs": [],
   "source": [
    "\n",
    "def f(x): \n",
    "    return x**2 - 2\n",
    "\n",
    "def f_der(x):\n",
    "    return 2*x\n",
    "\n",
    "x0 = -3\n",
    "x_star = np.sqrt(2)\n",
    "w = interactive(Iteration_demo3, f=fixed(f), f_der=fixed(f_der), a=fixed(a), b=fixed(b), x0 = fixed(x0), \\\n",
    "                x_star = fixed(x_star), iters=widgets.IntSlider(min=0,max=20,value=0))\n",
    "display(w)\n",
    "\n"
   ]
  },
  {
   "cell_type": "markdown",
   "metadata": {},
   "source": [
    "\n",
    "<p><strong>Example</strong> Find the root of $f(x) = x^3 + 10x - 20$ around $x_0 = 1.5$ by Newton's Methods</p>\n",
    "<p>The iterations is \n",
    "\\begin{equation}\n",
    "    x_{n+1} = x_n - \\frac{x^3 + 10x - 20}{3x^2 + 10}\n",
    "\\end{equation}</p>\n"
   ]
  },
  {
   "cell_type": "code",
   "execution_count": null,
   "metadata": {},
   "outputs": [],
   "source": [
    "\n",
    "def f(x): \n",
    "    return x**3 + 10*x - 20\n",
    "\n",
    "def f_der(x):\n",
    "    return 3*x**2 + 10\n",
    "\n",
    "x0 = 100\n",
    "a = 1 \n",
    "b = 2 \n",
    "x_star = bisect(f, a, b, 1.e-14)\n",
    "w = interactive(Iteration_demo3, f=fixed(f), f_der=fixed(f_der), a=fixed(a), b=fixed(b), x0 = fixed(x0), \\\n",
    "                x_star = fixed(x_star), iters=widgets.IntSlider(min=0,max=10,value=0))\n",
    "display(w)\n",
    "\n"
   ]
  },
  {
   "cell_type": "markdown",
   "metadata": {},
   "source": [
    "\n",
    "<p><strong>Example</strong> Find the root of $f(x) = x^3 - 3x + 2$ around $x_0 = 1.1$ by Newton's Methods</p>\n",
    "<p>The iterations is \n",
    "\\begin{equation}\n",
    "    x_{n+1} = x_n - \\frac{x^3 - 3x + 2}{3x^2 - 3}\n",
    "\\end{equation}</p>\n"
   ]
  },
  {
   "cell_type": "code",
   "execution_count": null,
   "metadata": {},
   "outputs": [],
   "source": [
    "\n",
    "def f(x): \n",
    "    return x**3 - 3*x +2\n",
    "\n",
    "def f_der(x):\n",
    "    return (3*x**2 - 3)/1.\n",
    "\n",
    "x0 = -1.5\n",
    "a = -3. \n",
    "b = 3. \n",
    "x_star = -2.\n",
    "w = interactive(Iteration_demo3, f=fixed(f), f_der=fixed(f_der), a=fixed(a), b=fixed(b), x0 = fixed(x0), \\\n",
    "                x_star = fixed(x_star), iters=widgets.IntSlider(min=0,max=30,value=0))\n",
    "display(w)\n",
    "\n"
   ]
  },
  {
   "cell_type": "markdown",
   "metadata": {},
   "source": [
    "\n",
    "<p><strong>Modified Newton Method</strong><br/>\n",
    "Find the root of $f(x) = x^3 - 3x + 2$ around $x_0 = 1.1$ by Modified Newton Methods</p>\n",
    "<p>The iterations is \n",
    "\\begin{equation}\n",
    "    x_{n+1} = x_n - \\frac{x^3 - 3x + 2}{x^2 - 1}\n",
    "\\end{equation}</p>\n"
   ]
  },
  {
   "cell_type": "code",
   "execution_count": null,
   "metadata": {},
   "outputs": [],
   "source": [
    "\n",
    "def f(x): \n",
    "    return x**3 - 3*x +2\n",
    "\n",
    "def f_der(x):\n",
    "    return (3*x**2 - 3)/2.\n",
    "\n",
    "x0 = 1.1\n",
    "a = -3. \n",
    "b = 3. \n",
    "x_star = 1.\n",
    "w = interactive(Iteration_demo3, f=fixed(f), f_der=fixed(f_der), a=fixed(a), b=fixed(b), x0 = fixed(x0), \\\n",
    "                x_star = fixed(x_star), iters=widgets.IntSlider(min=0,max=30,value=0))\n",
    "display(w)\n",
    "\n"
   ]
  },
  {
   "cell_type": "markdown",
   "metadata": {},
   "source": [
    "\n",
    "<h3 id=\"Secant-Method\">Secant Method<a class=\"anchor-link\" href=\"#Secant-Method\">¶</a></h3><p>One drawback of Newton's method is that it needs the function $f(x)$ and its derivative function $f'(x)$.  What if you do not have the derivative function $f'(x)$?  One way to avoid this issue is to use the so-called secant method.</p>\n",
    "<p><strong>Secant Method:</strong>\n",
    "\\begin{align}\n",
    "    x_0, x_1 &amp; = \\text{initial guesses} \\\\\n",
    "    x_{n+1} &amp; = x_n - \\frac{f(x_n)(x_n - x_{n-1}}{f(x_{n})-f(x_{n-1})} \\,\\,\\text{for}\\,\\,n = 1, 2,\\ldots,\n",
    "\\end{align}</p>\n",
    "<p><strong>The Python Code</strong></p>\n"
   ]
  },
  {
   "cell_type": "code",
   "execution_count": null,
   "metadata": {},
   "outputs": [],
   "source": [
    "\n",
    "def secant_iters(f, x0, x1, iters):\n",
    "    x = np.zeros(iters+1)\n",
    "    x[0] = x0\n",
    "    if (iters >= 1):\n",
    "        x[1] = x1\n",
    "        for i in range(1,iters):\n",
    "            x[i+1] = x[i] - f(x[i])*(x[i]-x[i-1])/(f(x[i]) - f(x[i-1]))\n",
    "    return x\n",
    "\n",
    "def f(x):\n",
    "    return x**2 - 3\n",
    "\n",
    "secant_iters(f, 1., 2., 10)\n",
    "\n"
   ]
  },
  {
   "cell_type": "code",
   "execution_count": null,
   "metadata": {},
   "outputs": [],
   "source": [
    "\n",
    "def Iteration_demo4(f, a, b, x0, x1, x_star, iters):\n",
    "    x = np.linspace(a, b, 1000)\n",
    "    plt.plot(x, f(x), 'k', linewidth=3)\n",
    "    plt.plot(x, 0*x, 'k-.', linewidth=3)\n",
    "    x = secant_iters(f, x0, x1, iters)\n",
    "    #x_ref = bisect(f, a+1.e-8, b, 1.e-14)\n",
    "    \n",
    "    #print (x)\n",
    "    plt.xlim(a,b)\n",
    "    #plt.ylim(min(f(a),f(b)),max(f(a),f(b)))\n",
    "    for i in range(iters+1):\n",
    "        plt.plot(x, f(x), 'r*', markersize=12, linewidth=3)\n",
    "    \n",
    "    print ('Reference Solution: ', x_star)\n",
    "    print ('no.    solution    |x_{n} - x^{*}|    e_{n}/e_{n-1}^1.618   e_{n}/e_{n-1}')\n",
    "    for i in range(iters+1):\n",
    "        if (i < 1):\n",
    "            print (\"%3d  %14.12f      %7.2e\" % \\\n",
    "                   (i, x[i], np.abs(x_star - x[i])))\n",
    "        else:\n",
    "            print (\"%3d  %14.12f      %7.2e           %6.4f          %6.4f\" % \\\n",
    "                   (i, x[i], np.abs(x_star - x[i]), np.abs(x_star - x[i])/np.abs(x_star - x[i-1])**1.618, \\\n",
    "                   np.abs(x_star - x[i])/np.abs(x_star - x[i-1])))\n",
    "\n"
   ]
  },
  {
   "cell_type": "code",
   "execution_count": null,
   "metadata": {},
   "outputs": [],
   "source": [
    "\n",
    "def f(x): \n",
    "    return x**3 - 3*x +2\n",
    "\n",
    "x0 = -1.5\n",
    "x1 = -2.5\n",
    "a = -3. \n",
    "b = 3. \n",
    "x_star = -2\n",
    "\n",
    "w = interactive(Iteration_demo4, f=fixed(f), a=fixed(a), b=fixed(b), x0 = fixed(x0), x1 = fixed(x1), \\\n",
    "                x_star = fixed(x_star), iters=widgets.IntSlider(min=0,max=20,value=0))\n",
    "display(w)\n",
    "\n"
   ]
  },
  {
   "cell_type": "markdown",
   "metadata": {},
   "source": [
    "\n",
    "<h2 id=\"Assignment\">Assignment<a class=\"anchor-link\" href=\"#Assignment\">¶</a></h2><h3 id=\"Assignment-1:\">Assignment 1:<a class=\"anchor-link\" href=\"#Assignment-1:\">¶</a></h3><p>For equation $x^2−3x+2−e^x =0$\n",
    "1) Fixed Point Iteration: \n",
    "    \\begin{equation*}\n",
    "        x_{n+1} = g(x_n)\n",
    "    \\end{equation*}\n",
    "     with $g(x) = (x^2 + 2^x + 2 - e^x)/5$</p>\n",
    "<p>2) Newton's Methods: \n",
    "\\begin{equation*}\n",
    "x_{n+1} = x_n - \\frac{x^2−3x+2−e^x}{2x -3 - e^x}\n",
    "\\end{equation*}</p>\n"
   ]
  },
  {
   "cell_type": "code",
   "execution_count": null,
   "metadata": {},
   "outputs": [],
   "source": [
    "\n",
    "def f(x):\n",
    "    return x**2 - 3*x +2 - np.exp(x)\n",
    "\n",
    "def g(x):\n",
    "    return x + 0.2*(x**2 - 3*x +2 - np.exp(x))\n",
    "\n",
    "a = 0; b = 1;\n",
    "x0 = 0.5\n",
    "\n",
    "w = interactive(Iteration_demo2, f=fixed(f), a=fixed(a), b=fixed(b), g=fixed(g), x0 = fixed(x0), iters=widgets.IntSlider(min=0,max=20,value=0))\n",
    "display(w)\n",
    "\n"
   ]
  },
  {
   "cell_type": "code",
   "execution_count": null,
   "metadata": {},
   "outputs": [],
   "source": [
    "\n",
    "def f(x): \n",
    "    return x**2 - 3*x +2 - np.exp(x)\n",
    "\n",
    "def f_der(x):\n",
    "    return 2*x - 3 - np.exp(x)\n",
    "\n",
    "x0 = 0.5\n",
    "a = 0. \n",
    "b = 1. \n",
    "x_star = bisect(f, a, b, 1.e-14)\n",
    "w = interactive(Iteration_demo3, f=fixed(f), f_der=fixed(f_der), a=fixed(a), b=fixed(b), x0 = fixed(x0), \\\n",
    "                x_star = fixed(x_star), iters=widgets.IntSlider(min=0,max=30,value=0))\n",
    "display(w)\n",
    "\n"
   ]
  },
  {
   "cell_type": "markdown",
   "metadata": {},
   "source": [
    "\n",
    "<h3 id=\"Assignment-2:\">Assignment 2:<a class=\"anchor-link\" href=\"#Assignment-2:\">¶</a></h3><p>Design a fixed point iteration method to solve equation $x^3 +2x^2 +10x −20 = 0$</p>\n"
   ]
  },
  {
   "cell_type": "code",
   "execution_count": null,
   "metadata": {},
   "outputs": [],
   "source": [
    "\n",
    "def f(x):\n",
    "    return x**3 + 2*x**2 + 10*x - 20\n",
    "\n",
    "def g(x):\n",
    "    return x - 0.02*(x**3 + 2*x**2 + 10*x -20)\n",
    "\n",
    "a = 1; b = 2;\n",
    "x0 = 1.5\n",
    "\n",
    "w = interactive(Iteration_demo2, f=fixed(f), a=fixed(a), b=fixed(b), g=fixed(g), x0 = fixed(x0), iters=widgets.IntSlider(min=0,max=30,value=0))\n",
    "display(w)\n",
    "\n"
   ]
  },
  {
   "cell_type": "code",
   "execution_count": null,
   "metadata": {},
   "outputs": [],
   "source": [
    "\n",
    "def f(x): \n",
    "    return x**3 + 2*x**2 + 10*x - 20\n",
    "\n",
    "def f_der(x):\n",
    "    return 3*x**2 + 4*x + 10\n",
    "\n",
    "x0 = 1.5\n",
    "a = 1. \n",
    "b = 2. \n",
    "x_star = bisect(f, a, b, 1.e-14)\n",
    "w = interactive(Iteration_demo3, f=fixed(f), f_der=fixed(f_der), a=fixed(a), b=fixed(b), x0 = fixed(x0), \\\n",
    "                x_star = fixed(x_star), iters=widgets.IntSlider(min=0,max=30,value=0))\n",
    "display(w)\n",
    "\n"
   ]
  },
  {
   "cell_type": "markdown",
   "metadata": {},
   "source": [
    "\n",
    "<h3 id=\"Assignment-3\">Assignment 3<a class=\"anchor-link\" href=\"#Assignment-3\">¶</a></h3><p>Consider Fixed-Point Iteration applied to $g(x) = 1 − 5x + \\frac{15}{2}x^2 − \\frac{5}{2}x^3$ . (a) Show that \n",
    "$1 − \\sqrt{3/5}$, $1$, and $1 + \\sqrt{3/5}$ are fixed points. (b) Show that none of the three fixed points is \n",
    "locally convergent.</p>\n",
    "<p>Futher, find initial guesses for which FPI (c) cycles endlessly through numbers in the interval $(0,1)$, (d) the same as (c), but the interval is $(1, 2)$ (e) diverges to infinity. Cases (c) and (d) are examples of chaotic dynamics. In all three cases, FPI is unsuccessful.</p>\n"
   ]
  },
  {
   "cell_type": "code",
   "execution_count": null,
   "metadata": {},
   "outputs": [],
   "source": [
    "\n",
    "def f(x):\n",
    "    return 1 - 6*x + 7.5*x**2 - 2.5*x**3\n",
    "\n",
    "a = 0; b = 2\n",
    "\n",
    "def g(x):\n",
    "    return 1 - 5*x + 7.5*x**2 - 2.5*x**3\n",
    "\n",
    "\n",
    "x0 = 0.5\n",
    "x_star = 1 - np.sqrt(3./5)\n",
    "w = interactive(Iteration_demo2, f=fixed(f), a=fixed(a), b=fixed(b), g=fixed(g), x0 = fixed(x0), iters=widgets.IntSlider(min=0,max=80,value=0))\n",
    "display(w)\n",
    "\n"
   ]
  },
  {
   "cell_type": "code",
   "execution_count": null,
   "metadata": {},
   "outputs": [],
   "source": [
    "\n",
    "x = fixed_iters(g, x0, 120)\n",
    "plt.plot(np.arange(np.size(x)),x)\n",
    "\n"
   ]
  },
  {
   "cell_type": "code",
   "execution_count": null,
   "metadata": {},
   "outputs": [],
   "source": [
    "\n",
    " \n",
    "\n"
   ]
  }
 ],
 "metadata": {
  "kernelspec": {
   "display_name": "Python 3",
   "language": "python",
   "name": "python3"
  },
  "language_info": {
   "codemirror_mode": {
    "name": "ipython",
    "version": 3
   },
   "file_extension": ".py",
   "mimetype": "text/x-python",
   "name": "python",
   "nbconvert_exporter": "python",
   "pygments_lexer": "ipython3",
   "version": "3.7.4"
  }
 },
 "nbformat": 4,
 "nbformat_minor": 1
}
